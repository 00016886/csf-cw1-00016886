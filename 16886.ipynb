{
 "cells": [
  {
   "cell_type": "code",
   "execution_count": null,
   "metadata": {},
   "outputs": [],
   "source": [
    "# Here I imported all essential libraries, yet some of them weren't used\n",
    "import pandas as pd\n",
    "import numpy as np\n",
    "import matplotlib.pyplot as plt\n",
    "\n",
    "# Loaded the dataset and defined it as data variable\n",
    "file_path = 'dataset.csv'  \n",
    "data = pd.read_csv(file_path)\n",
    "data.shape\n",
    "\n"
   ]
  },
  {
   "cell_type": "code",
   "execution_count": null,
   "metadata": {},
   "outputs": [],
   "source": [
    "# Filled NA, empty spaces with 0\n",
    "data.fillna(0)"
   ]
  },
  {
   "cell_type": "code",
   "execution_count": null,
   "metadata": {},
   "outputs": [],
   "source": [
    "# Found average of Period and FactValueTranslationID columns\n",
    "file_path = 'dataset.csv'  \n",
    "data = pd.read_csv(file_path)\n",
    "column_names = ['Period', 'FactValueTranslationID']  # Specified column names\n",
    "average_values = data[column_names].mean()  # Calculation of average of 2 columns\n",
    "print(average_values)"
   ]
  }
 ],
 "metadata": {
  "language_info": {
   "name": "python"
  }
 },
 "nbformat": 4,
 "nbformat_minor": 2
}
